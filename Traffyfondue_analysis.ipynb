{
 "cells": [
  {
   "attachments": {},
   "cell_type": "markdown",
   "metadata": {},
   "source": [
    "### Setup"
   ]
  },
  {
   "cell_type": "code",
   "execution_count": 1,
   "metadata": {},
   "outputs": [],
   "source": [
    "import os\n",
    "from pymongo import MongoClient\n",
    "import urllib\n",
    "import json\n",
    "\n",
    "import pandas as pd\n",
    "import numpy as np\n",
    "import matplotlib.pyplot as plt\n",
    "\n",
    "from dotenv import load_dotenv"
   ]
  },
  {
   "cell_type": "code",
   "execution_count": 2,
   "metadata": {},
   "outputs": [],
   "source": [
    "# set this option to wrap wide columns\n",
    "pd.set_option('display.max_columns', 30)\n",
    "pd.set_option('display.max_colwidth', None)"
   ]
  },
  {
   "attachments": {},
   "cell_type": "markdown",
   "metadata": {},
   "source": [
    "### Load data"
   ]
  },
  {
   "cell_type": "code",
   "execution_count": 3,
   "metadata": {},
   "outputs": [],
   "source": [
    "load_dotenv()\n",
    "\n",
    "try:\n",
    "    username = urllib.parse.quote_plus(os.getenv('MONGO_USERNAME'))\n",
    "    password = urllib.parse.quote_plus(os.getenv('MONGO_PASSWORD'))\n",
    "    host = os.getenv('MONGO_HOST')\n",
    "except TypeError:\n",
    "    print('Please set environment variables first!')\n",
    "    raise TypeError\n",
    "\n",
    "myClient = MongoClient(f'mongodb+srv://{username}:{password}@{host}/?retryWrites=true&w=majority')"
   ]
  },
  {
   "cell_type": "code",
   "execution_count": 4,
   "metadata": {},
   "outputs": [],
   "source": [
    "def read_mongo(db, collection, query={}, no_id=True):\n",
    "    mydb = myClient[db]\n",
    "    col = mydb[collection]\n",
    "\n",
    "    cursor = col.find()\n",
    "    raw_df =  pd.DataFrame(list(cursor))\n",
    "\n",
    "    # Delete the _id\n",
    "    if no_id:\n",
    "        del raw_df['_id']\n",
    "\n",
    "    return raw_df"
   ]
  },
  {
   "cell_type": "code",
   "execution_count": null,
   "metadata": {},
   "outputs": [],
   "source": [
    "raw_df = read_mongo('myDB', 'data')"
   ]
  },
  {
   "cell_type": "code",
   "execution_count": null,
   "metadata": {},
   "outputs": [
    {
     "data": {
      "text/html": [
       "<div>\n",
       "<style scoped>\n",
       "    .dataframe tbody tr th:only-of-type {\n",
       "        vertical-align: middle;\n",
       "    }\n",
       "\n",
       "    .dataframe tbody tr th {\n",
       "        vertical-align: top;\n",
       "    }\n",
       "\n",
       "    .dataframe thead th {\n",
       "        text-align: right;\n",
       "    }\n",
       "</style>\n",
       "<table border=\"1\" class=\"dataframe\">\n",
       "  <thead>\n",
       "    <tr style=\"text-align: right;\">\n",
       "      <th></th>\n",
       "      <th>ticket_id</th>\n",
       "      <th>type</th>\n",
       "      <th>organization</th>\n",
       "      <th>comment</th>\n",
       "      <th>photo</th>\n",
       "      <th>photo_after</th>\n",
       "      <th>coords</th>\n",
       "      <th>address</th>\n",
       "      <th>subdistrict</th>\n",
       "      <th>district</th>\n",
       "      <th>province</th>\n",
       "      <th>timestamp</th>\n",
       "      <th>state</th>\n",
       "      <th>star</th>\n",
       "      <th>count_reopen</th>\n",
       "      <th>last_activity</th>\n",
       "    </tr>\n",
       "  </thead>\n",
       "  <tbody>\n",
       "    <tr>\n",
       "      <th>0</th>\n",
       "      <td>2022-NHRQWA</td>\n",
       "      <td>[จราจร]</td>\n",
       "      <td>[เขตห้วยขวาง]</td>\n",
       "      <td>รถติดนานแล้ว</td>\n",
       "      <td>https://storage.googleapis.com/traffy_public_bucket/attachment/2022-07/fed40a2f1defef293b0109a88ee31a55cd325e13.jpg</td>\n",
       "      <td>https://storage.googleapis.com/traffy_public_bucket/attachment/2022-08/7c8ecfb6290d1db4bb2d68c5c79738e44bdf405b.jpg</td>\n",
       "      <td>[100.56405, 13.75106]</td>\n",
       "      <td>46 ถ. อโศก - ดินแดง แขวง บางกะปิ เขตห้วยขวาง กรุงเทพมหานคร 10310 ประเทศไทย</td>\n",
       "      <td>บางกะปิ</td>\n",
       "      <td>ห้วยขวาง</td>\n",
       "      <td>กรุงเทพมหานคร</td>\n",
       "      <td>2022-07-01 00:01:11.529841+00</td>\n",
       "      <td>เสร็จสิ้น</td>\n",
       "      <td>5.0</td>\n",
       "      <td>NaN</td>\n",
       "      <td>2022-08-01 14:19:25.174322+00</td>\n",
       "    </tr>\n",
       "    <tr>\n",
       "      <th>1</th>\n",
       "      <td>2022-D8TD2Q</td>\n",
       "      <td>[ถนน]</td>\n",
       "      <td>[เขตคลองสามวา]</td>\n",
       "      <td>ถนนพัง</td>\n",
       "      <td>https://storage.googleapis.com/traffy_public_bucket/attachment/2022-07/dd8532c024893a3a3ee5f127e1bd498711f94606.jpg</td>\n",
       "      <td>https://storage.googleapis.com/traffy_public_bucket/attachment/2022-12/c26589705d0e8b60237a6c665c3de46505a5bde6.jpg</td>\n",
       "      <td>[100.69372, 13.89715]</td>\n",
       "      <td>26/2 ถนน กาญจนาฎเษก แขวง สามวาตะวันตก เขตคลองสามวา กรุงเทพมหานคร 10510 ประเทศไทย</td>\n",
       "      <td>สามวาตะวันตก</td>\n",
       "      <td>คลองสามวา</td>\n",
       "      <td>กรุงเทพมหานคร</td>\n",
       "      <td>2022-07-01 00:01:56.896927+00</td>\n",
       "      <td>เสร็จสิ้น</td>\n",
       "      <td>NaN</td>\n",
       "      <td>NaN</td>\n",
       "      <td>2022-12-13 07:38:21.633096+00</td>\n",
       "    </tr>\n",
       "    <tr>\n",
       "      <th>2</th>\n",
       "      <td>2022-E9GUYK</td>\n",
       "      <td>[ถนน]</td>\n",
       "      <td>[เขตคลองเตย, สำนักการโยธา กทม.]</td>\n",
       "      <td>ถนนชำรุด</td>\n",
       "      <td>https://storage.googleapis.com/traffy_public_bucket/attachment/2022-07/07d9586ea2945e82f8af12d98d3c7055b3a678f4.jpg</td>\n",
       "      <td>https://storage.googleapis.com/traffy_public_bucket/attachment/2023-02/1675953454173.jpeg</td>\n",
       "      <td>[100.55411, 13.71305]</td>\n",
       "      <td>29 ถนน เชื้อเพลิง แขวง คลองเตย เขตคลองเตย กรุงเทพมหานคร 10110 ประเทศไทย</td>\n",
       "      <td>คลองเตย</td>\n",
       "      <td>คลองเตย</td>\n",
       "      <td>กรุงเทพมหานคร</td>\n",
       "      <td>2022-07-01 00:03:18.721622+00</td>\n",
       "      <td>เสร็จสิ้น</td>\n",
       "      <td>NaN</td>\n",
       "      <td>NaN</td>\n",
       "      <td>2023-02-09 14:37:35.67893+00</td>\n",
       "    </tr>\n",
       "  </tbody>\n",
       "</table>\n",
       "</div>"
      ],
      "text/plain": [
       "     ticket_id     type                     organization       comment   \n",
       "0  2022-NHRQWA  [จราจร]                    [เขตห้วยขวาง]  รถติดนานแล้ว  \\\n",
       "1  2022-D8TD2Q    [ถนน]                   [เขตคลองสามวา]        ถนนพัง   \n",
       "2  2022-E9GUYK    [ถนน]  [เขตคลองเตย, สำนักการโยธา กทม.]      ถนนชำรุด   \n",
       "\n",
       "                                                                                                                 photo   \n",
       "0  https://storage.googleapis.com/traffy_public_bucket/attachment/2022-07/fed40a2f1defef293b0109a88ee31a55cd325e13.jpg  \\\n",
       "1  https://storage.googleapis.com/traffy_public_bucket/attachment/2022-07/dd8532c024893a3a3ee5f127e1bd498711f94606.jpg   \n",
       "2  https://storage.googleapis.com/traffy_public_bucket/attachment/2022-07/07d9586ea2945e82f8af12d98d3c7055b3a678f4.jpg   \n",
       "\n",
       "                                                                                                           photo_after   \n",
       "0  https://storage.googleapis.com/traffy_public_bucket/attachment/2022-08/7c8ecfb6290d1db4bb2d68c5c79738e44bdf405b.jpg  \\\n",
       "1  https://storage.googleapis.com/traffy_public_bucket/attachment/2022-12/c26589705d0e8b60237a6c665c3de46505a5bde6.jpg   \n",
       "2                            https://storage.googleapis.com/traffy_public_bucket/attachment/2023-02/1675953454173.jpeg   \n",
       "\n",
       "                  coords   \n",
       "0  [100.56405, 13.75106]  \\\n",
       "1  [100.69372, 13.89715]   \n",
       "2  [100.55411, 13.71305]   \n",
       "\n",
       "                                                                            address   \n",
       "0        46 ถ. อโศก - ดินแดง แขวง บางกะปิ เขตห้วยขวาง กรุงเทพมหานคร 10310 ประเทศไทย  \\\n",
       "1  26/2 ถนน กาญจนาฎเษก แขวง สามวาตะวันตก เขตคลองสามวา กรุงเทพมหานคร 10510 ประเทศไทย   \n",
       "2           29 ถนน เชื้อเพลิง แขวง คลองเตย เขตคลองเตย กรุงเทพมหานคร 10110 ประเทศไทย   \n",
       "\n",
       "    subdistrict   district       province                      timestamp   \n",
       "0       บางกะปิ   ห้วยขวาง  กรุงเทพมหานคร  2022-07-01 00:01:11.529841+00  \\\n",
       "1  สามวาตะวันตก  คลองสามวา  กรุงเทพมหานคร  2022-07-01 00:01:56.896927+00   \n",
       "2       คลองเตย    คลองเตย  กรุงเทพมหานคร  2022-07-01 00:03:18.721622+00   \n",
       "\n",
       "       state  star  count_reopen                  last_activity  \n",
       "0  เสร็จสิ้น   5.0           NaN  2022-08-01 14:19:25.174322+00  \n",
       "1  เสร็จสิ้น   NaN           NaN  2022-12-13 07:38:21.633096+00  \n",
       "2  เสร็จสิ้น   NaN           NaN   2023-02-09 14:37:35.67893+00  "
      ]
     },
     "execution_count": 33,
     "metadata": {},
     "output_type": "execute_result"
    }
   ],
   "source": [
    "raw_df.head(3)"
   ]
  },
  {
   "attachments": {},
   "cell_type": "markdown",
   "metadata": {},
   "source": [
    "### Data Exploration"
   ]
  },
  {
   "cell_type": "code",
   "execution_count": null,
   "metadata": {},
   "outputs": [
    {
     "name": "stdout",
     "output_type": "stream",
     "text": [
      "<class 'pandas.core.frame.DataFrame'>\n",
      "RangeIndex: 70838 entries, 0 to 70837\n",
      "Data columns (total 16 columns):\n",
      " #   Column         Non-Null Count  Dtype  \n",
      "---  ------         --------------  -----  \n",
      " 0   ticket_id      70838 non-null  object \n",
      " 1   type           70838 non-null  object \n",
      " 2   organization   70838 non-null  object \n",
      " 3   comment        70838 non-null  object \n",
      " 4   photo          70818 non-null  object \n",
      " 5   photo_after    63713 non-null  object \n",
      " 6   coords         70838 non-null  object \n",
      " 7   address        70838 non-null  object \n",
      " 8   subdistrict    70838 non-null  object \n",
      " 9   district       70838 non-null  object \n",
      " 10  province       70838 non-null  object \n",
      " 11  timestamp      70838 non-null  object \n",
      " 12  state          70838 non-null  object \n",
      " 13  star           37962 non-null  float64\n",
      " 14  count_reopen   40485 non-null  float64\n",
      " 15  last_activity  70838 non-null  object \n",
      "dtypes: float64(2), object(14)\n",
      "memory usage: 8.6+ MB\n"
     ]
    }
   ],
   "source": [
    "raw_df.info()"
   ]
  },
  {
   "cell_type": "code",
   "execution_count": null,
   "metadata": {},
   "outputs": [
    {
     "data": {
      "text/html": [
       "<div>\n",
       "<style scoped>\n",
       "    .dataframe tbody tr th:only-of-type {\n",
       "        vertical-align: middle;\n",
       "    }\n",
       "\n",
       "    .dataframe tbody tr th {\n",
       "        vertical-align: top;\n",
       "    }\n",
       "\n",
       "    .dataframe thead th {\n",
       "        text-align: right;\n",
       "    }\n",
       "</style>\n",
       "<table border=\"1\" class=\"dataframe\">\n",
       "  <thead>\n",
       "    <tr style=\"text-align: right;\">\n",
       "      <th></th>\n",
       "      <th>address</th>\n",
       "      <th>district</th>\n",
       "      <th>province</th>\n",
       "    </tr>\n",
       "  </thead>\n",
       "  <tbody>\n",
       "    <tr>\n",
       "      <th>0</th>\n",
       "      <td>46 ถ. อโศก - ดินแดง แขวง บางกะปิ เขตห้วยขวาง กรุงเทพมหานคร 10310 ประเทศไทย</td>\n",
       "      <td>ห้วยขวาง</td>\n",
       "      <td>กรุงเทพมหานคร</td>\n",
       "    </tr>\n",
       "    <tr>\n",
       "      <th>1</th>\n",
       "      <td>26/2 ถนน กาญจนาฎเษก แขวง สามวาตะวันตก เขตคลองสามวา กรุงเทพมหานคร 10510 ประเทศไทย</td>\n",
       "      <td>คลองสามวา</td>\n",
       "      <td>กรุงเทพมหานคร</td>\n",
       "    </tr>\n",
       "    <tr>\n",
       "      <th>2</th>\n",
       "      <td>29 ถนน เชื้อเพลิง แขวง คลองเตย เขตคลองเตย กรุงเทพมหานคร 10110 ประเทศไทย</td>\n",
       "      <td>คลองเตย</td>\n",
       "      <td>กรุงเทพมหานคร</td>\n",
       "    </tr>\n",
       "  </tbody>\n",
       "</table>\n",
       "</div>"
      ],
      "text/plain": [
       "                                                                            address   \n",
       "0        46 ถ. อโศก - ดินแดง แขวง บางกะปิ เขตห้วยขวาง กรุงเทพมหานคร 10310 ประเทศไทย  \\\n",
       "1  26/2 ถนน กาญจนาฎเษก แขวง สามวาตะวันตก เขตคลองสามวา กรุงเทพมหานคร 10510 ประเทศไทย   \n",
       "2           29 ถนน เชื้อเพลิง แขวง คลองเตย เขตคลองเตย กรุงเทพมหานคร 10110 ประเทศไทย   \n",
       "\n",
       "    district       province  \n",
       "0   ห้วยขวาง  กรุงเทพมหานคร  \n",
       "1  คลองสามวา  กรุงเทพมหานคร  \n",
       "2    คลองเตย  กรุงเทพมหานคร  "
      ]
     },
     "execution_count": 19,
     "metadata": {},
     "output_type": "execute_result"
    }
   ],
   "source": [
    "raw_df[['address', 'district', 'province']].head(3)"
   ]
  },
  {
   "cell_type": "code",
   "execution_count": null,
   "metadata": {},
   "outputs": [
    {
     "data": {
      "text/html": [
       "<div>\n",
       "<style scoped>\n",
       "    .dataframe tbody tr th:only-of-type {\n",
       "        vertical-align: middle;\n",
       "    }\n",
       "\n",
       "    .dataframe tbody tr th {\n",
       "        vertical-align: top;\n",
       "    }\n",
       "\n",
       "    .dataframe thead th {\n",
       "        text-align: right;\n",
       "    }\n",
       "</style>\n",
       "<table border=\"1\" class=\"dataframe\">\n",
       "  <thead>\n",
       "    <tr style=\"text-align: right;\">\n",
       "      <th></th>\n",
       "      <th>ticket_id</th>\n",
       "      <th>type</th>\n",
       "      <th>organization</th>\n",
       "      <th>comment</th>\n",
       "      <th>photo</th>\n",
       "      <th>photo_after</th>\n",
       "      <th>coords</th>\n",
       "      <th>address</th>\n",
       "      <th>subdistrict</th>\n",
       "      <th>district</th>\n",
       "      <th>province</th>\n",
       "      <th>timestamp</th>\n",
       "      <th>state</th>\n",
       "      <th>star</th>\n",
       "      <th>count_reopen</th>\n",
       "      <th>last_activity</th>\n",
       "    </tr>\n",
       "  </thead>\n",
       "  <tbody>\n",
       "    <tr>\n",
       "      <th>0</th>\n",
       "      <td>2022-NHRQWA</td>\n",
       "      <td>[จราจร]</td>\n",
       "      <td>[เขตห้วยขวาง]</td>\n",
       "      <td>รถติดนานแล้ว</td>\n",
       "      <td>https://storage.googleapis.com/traffy_public_bucket/attachment/2022-07/fed40a2f1defef293b0109a88ee31a55cd325e13.jpg</td>\n",
       "      <td>https://storage.googleapis.com/traffy_public_bucket/attachment/2022-08/7c8ecfb6290d1db4bb2d68c5c79738e44bdf405b.jpg</td>\n",
       "      <td>[100.56405, 13.75106]</td>\n",
       "      <td>46 ถ. อโศก - ดินแดง แขวง บางกะปิ เขตห้วยขวาง กรุงเทพมหานคร 10310 ประเทศไทย</td>\n",
       "      <td>บางกะปิ</td>\n",
       "      <td>ห้วยขวาง</td>\n",
       "      <td>กรุงเทพมหานคร</td>\n",
       "      <td>2022-07-01 00:01:11.529841+00</td>\n",
       "      <td>เสร็จสิ้น</td>\n",
       "      <td>5.0</td>\n",
       "      <td>NaN</td>\n",
       "      <td>2022-08-01 14:19:25.174322+00</td>\n",
       "    </tr>\n",
       "    <tr>\n",
       "      <th>1</th>\n",
       "      <td>2022-D8TD2Q</td>\n",
       "      <td>[ถนน]</td>\n",
       "      <td>[เขตคลองสามวา]</td>\n",
       "      <td>ถนนพัง</td>\n",
       "      <td>https://storage.googleapis.com/traffy_public_bucket/attachment/2022-07/dd8532c024893a3a3ee5f127e1bd498711f94606.jpg</td>\n",
       "      <td>https://storage.googleapis.com/traffy_public_bucket/attachment/2022-12/c26589705d0e8b60237a6c665c3de46505a5bde6.jpg</td>\n",
       "      <td>[100.69372, 13.89715]</td>\n",
       "      <td>26/2 ถนน กาญจนาฎเษก แขวง สามวาตะวันตก เขตคลองสามวา กรุงเทพมหานคร 10510 ประเทศไทย</td>\n",
       "      <td>สามวาตะวันตก</td>\n",
       "      <td>คลองสามวา</td>\n",
       "      <td>กรุงเทพมหานคร</td>\n",
       "      <td>2022-07-01 00:01:56.896927+00</td>\n",
       "      <td>เสร็จสิ้น</td>\n",
       "      <td>NaN</td>\n",
       "      <td>NaN</td>\n",
       "      <td>2022-12-13 07:38:21.633096+00</td>\n",
       "    </tr>\n",
       "    <tr>\n",
       "      <th>2</th>\n",
       "      <td>2022-E9GUYK</td>\n",
       "      <td>[ถนน]</td>\n",
       "      <td>[เขตคลองเตย, สำนักการโยธา กทม.]</td>\n",
       "      <td>ถนนชำรุด</td>\n",
       "      <td>https://storage.googleapis.com/traffy_public_bucket/attachment/2022-07/07d9586ea2945e82f8af12d98d3c7055b3a678f4.jpg</td>\n",
       "      <td>https://storage.googleapis.com/traffy_public_bucket/attachment/2023-02/1675953454173.jpeg</td>\n",
       "      <td>[100.55411, 13.71305]</td>\n",
       "      <td>29 ถนน เชื้อเพลิง แขวง คลองเตย เขตคลองเตย กรุงเทพมหานคร 10110 ประเทศไทย</td>\n",
       "      <td>คลองเตย</td>\n",
       "      <td>คลองเตย</td>\n",
       "      <td>กรุงเทพมหานคร</td>\n",
       "      <td>2022-07-01 00:03:18.721622+00</td>\n",
       "      <td>เสร็จสิ้น</td>\n",
       "      <td>NaN</td>\n",
       "      <td>NaN</td>\n",
       "      <td>2023-02-09 14:37:35.67893+00</td>\n",
       "    </tr>\n",
       "  </tbody>\n",
       "</table>\n",
       "</div>"
      ],
      "text/plain": [
       "     ticket_id     type                     organization       comment   \n",
       "0  2022-NHRQWA  [จราจร]                    [เขตห้วยขวาง]  รถติดนานแล้ว  \\\n",
       "1  2022-D8TD2Q    [ถนน]                   [เขตคลองสามวา]        ถนนพัง   \n",
       "2  2022-E9GUYK    [ถนน]  [เขตคลองเตย, สำนักการโยธา กทม.]      ถนนชำรุด   \n",
       "\n",
       "                                                                                                                 photo   \n",
       "0  https://storage.googleapis.com/traffy_public_bucket/attachment/2022-07/fed40a2f1defef293b0109a88ee31a55cd325e13.jpg  \\\n",
       "1  https://storage.googleapis.com/traffy_public_bucket/attachment/2022-07/dd8532c024893a3a3ee5f127e1bd498711f94606.jpg   \n",
       "2  https://storage.googleapis.com/traffy_public_bucket/attachment/2022-07/07d9586ea2945e82f8af12d98d3c7055b3a678f4.jpg   \n",
       "\n",
       "                                                                                                           photo_after   \n",
       "0  https://storage.googleapis.com/traffy_public_bucket/attachment/2022-08/7c8ecfb6290d1db4bb2d68c5c79738e44bdf405b.jpg  \\\n",
       "1  https://storage.googleapis.com/traffy_public_bucket/attachment/2022-12/c26589705d0e8b60237a6c665c3de46505a5bde6.jpg   \n",
       "2                            https://storage.googleapis.com/traffy_public_bucket/attachment/2023-02/1675953454173.jpeg   \n",
       "\n",
       "                  coords   \n",
       "0  [100.56405, 13.75106]  \\\n",
       "1  [100.69372, 13.89715]   \n",
       "2  [100.55411, 13.71305]   \n",
       "\n",
       "                                                                            address   \n",
       "0        46 ถ. อโศก - ดินแดง แขวง บางกะปิ เขตห้วยขวาง กรุงเทพมหานคร 10310 ประเทศไทย  \\\n",
       "1  26/2 ถนน กาญจนาฎเษก แขวง สามวาตะวันตก เขตคลองสามวา กรุงเทพมหานคร 10510 ประเทศไทย   \n",
       "2           29 ถนน เชื้อเพลิง แขวง คลองเตย เขตคลองเตย กรุงเทพมหานคร 10110 ประเทศไทย   \n",
       "\n",
       "    subdistrict   district       province                      timestamp   \n",
       "0       บางกะปิ   ห้วยขวาง  กรุงเทพมหานคร  2022-07-01 00:01:11.529841+00  \\\n",
       "1  สามวาตะวันตก  คลองสามวา  กรุงเทพมหานคร  2022-07-01 00:01:56.896927+00   \n",
       "2       คลองเตย    คลองเตย  กรุงเทพมหานคร  2022-07-01 00:03:18.721622+00   \n",
       "\n",
       "       state  star  count_reopen                  last_activity  \n",
       "0  เสร็จสิ้น   5.0           NaN  2022-08-01 14:19:25.174322+00  \n",
       "1  เสร็จสิ้น   NaN           NaN  2022-12-13 07:38:21.633096+00  \n",
       "2  เสร็จสิ้น   NaN           NaN   2023-02-09 14:37:35.67893+00  "
      ]
     },
     "execution_count": 20,
     "metadata": {},
     "output_type": "execute_result"
    }
   ],
   "source": [
    "raw_df.head(3)"
   ]
  },
  {
   "cell_type": "code",
   "execution_count": null,
   "metadata": {},
   "outputs": [
    {
     "data": {
      "text/plain": [
       "(70838, 16)"
      ]
     },
     "execution_count": 21,
     "metadata": {},
     "output_type": "execute_result"
    }
   ],
   "source": [
    "raw_df.shape"
   ]
  },
  {
   "attachments": {},
   "cell_type": "markdown",
   "metadata": {},
   "source": [
    "### Data cleaning"
   ]
  },
  {
   "cell_type": "code",
   "execution_count": null,
   "metadata": {},
   "outputs": [
    {
     "data": {
      "text/plain": [
       "ticket_id            0\n",
       "type                 0\n",
       "organization         0\n",
       "comment              0\n",
       "photo               20\n",
       "photo_after       7125\n",
       "coords               0\n",
       "address              0\n",
       "subdistrict          0\n",
       "district             0\n",
       "province             0\n",
       "timestamp            0\n",
       "state                0\n",
       "star             32876\n",
       "count_reopen     30353\n",
       "last_activity        0\n",
       "dtype: int64"
      ]
     },
     "execution_count": 34,
     "metadata": {},
     "output_type": "execute_result"
    }
   ],
   "source": [
    "cleaned_df = raw_df.copy()\n",
    "cleaned_df.isna().sum()"
   ]
  },
  {
   "cell_type": "code",
   "execution_count": null,
   "metadata": {},
   "outputs": [
    {
     "data": {
      "text/plain": [
       "(70838, 11)"
      ]
     },
     "metadata": {},
     "output_type": "display_data"
    },
    {
     "data": {
      "text/plain": [
       "type             0\n",
       "organization     0\n",
       "comment          0\n",
       "coords           0\n",
       "address          0\n",
       "subdistrict      0\n",
       "district         0\n",
       "province         0\n",
       "timestamp        0\n",
       "state            0\n",
       "last_activity    0\n",
       "dtype: int64"
      ]
     },
     "metadata": {},
     "output_type": "display_data"
    }
   ],
   "source": [
    "cleaned_df.drop(columns=['ticket_id', 'photo', 'photo_after', 'star', 'count_reopen'], inplace=True)\n",
    "\n",
    "# view data\n",
    "display(cleaned_df.shape)\n",
    "display(cleaned_df.isna().sum())"
   ]
  },
  {
   "cell_type": "code",
   "execution_count": null,
   "metadata": {},
   "outputs": [],
   "source": [
    "def extract_coord(coord_series):\n",
    "    longs = []\n",
    "    lats = []\n",
    "    for lo, la in coord_series:\n",
    "       longs.append(float(lo))\n",
    "       lats.append(float(la))\n",
    "    return pd.DataFrame({\n",
    "        'latitude': lats, \n",
    "        'longitude': longs\n",
    "    }) "
   ]
  },
  {
   "cell_type": "code",
   "execution_count": null,
   "metadata": {},
   "outputs": [],
   "source": [
    "cleaned_df[['latitude', 'longitude']] = extract_coord(cleaned_df.coords)"
   ]
  },
  {
   "cell_type": "code",
   "execution_count": null,
   "metadata": {},
   "outputs": [
    {
     "data": {
      "text/html": [
       "<div>\n",
       "<style scoped>\n",
       "    .dataframe tbody tr th:only-of-type {\n",
       "        vertical-align: middle;\n",
       "    }\n",
       "\n",
       "    .dataframe tbody tr th {\n",
       "        vertical-align: top;\n",
       "    }\n",
       "\n",
       "    .dataframe thead th {\n",
       "        text-align: right;\n",
       "    }\n",
       "</style>\n",
       "<table border=\"1\" class=\"dataframe\">\n",
       "  <thead>\n",
       "    <tr style=\"text-align: right;\">\n",
       "      <th></th>\n",
       "      <th>type</th>\n",
       "      <th>organization</th>\n",
       "      <th>comment</th>\n",
       "      <th>coords</th>\n",
       "      <th>address</th>\n",
       "      <th>subdistrict</th>\n",
       "      <th>district</th>\n",
       "      <th>province</th>\n",
       "      <th>timestamp</th>\n",
       "      <th>state</th>\n",
       "      <th>last_activity</th>\n",
       "      <th>latitude</th>\n",
       "      <th>longitude</th>\n",
       "    </tr>\n",
       "  </thead>\n",
       "  <tbody>\n",
       "    <tr>\n",
       "      <th>0</th>\n",
       "      <td>[จราจร]</td>\n",
       "      <td>[เขตห้วยขวาง]</td>\n",
       "      <td>รถติดนานแล้ว</td>\n",
       "      <td>[100.56405, 13.75106]</td>\n",
       "      <td>46 ถ. อโศก - ดินแดง แขวง บางกะปิ เขตห้วยขวาง กรุงเทพมหานคร 10310 ประเทศไทย</td>\n",
       "      <td>บางกะปิ</td>\n",
       "      <td>ห้วยขวาง</td>\n",
       "      <td>กรุงเทพมหานคร</td>\n",
       "      <td>2022-07-01 00:01:11.529841+00</td>\n",
       "      <td>เสร็จสิ้น</td>\n",
       "      <td>2022-08-01 14:19:25.174322+00</td>\n",
       "      <td>13.75106</td>\n",
       "      <td>100.56405</td>\n",
       "    </tr>\n",
       "    <tr>\n",
       "      <th>1</th>\n",
       "      <td>[ถนน]</td>\n",
       "      <td>[เขตคลองสามวา]</td>\n",
       "      <td>ถนนพัง</td>\n",
       "      <td>[100.69372, 13.89715]</td>\n",
       "      <td>26/2 ถนน กาญจนาฎเษก แขวง สามวาตะวันตก เขตคลองสามวา กรุงเทพมหานคร 10510 ประเทศไทย</td>\n",
       "      <td>สามวาตะวันตก</td>\n",
       "      <td>คลองสามวา</td>\n",
       "      <td>กรุงเทพมหานคร</td>\n",
       "      <td>2022-07-01 00:01:56.896927+00</td>\n",
       "      <td>เสร็จสิ้น</td>\n",
       "      <td>2022-12-13 07:38:21.633096+00</td>\n",
       "      <td>13.89715</td>\n",
       "      <td>100.69372</td>\n",
       "    </tr>\n",
       "    <tr>\n",
       "      <th>2</th>\n",
       "      <td>[ถนน]</td>\n",
       "      <td>[เขตคลองเตย, สำนักการโยธา กทม.]</td>\n",
       "      <td>ถนนชำรุด</td>\n",
       "      <td>[100.55411, 13.71305]</td>\n",
       "      <td>29 ถนน เชื้อเพลิง แขวง คลองเตย เขตคลองเตย กรุงเทพมหานคร 10110 ประเทศไทย</td>\n",
       "      <td>คลองเตย</td>\n",
       "      <td>คลองเตย</td>\n",
       "      <td>กรุงเทพมหานคร</td>\n",
       "      <td>2022-07-01 00:03:18.721622+00</td>\n",
       "      <td>เสร็จสิ้น</td>\n",
       "      <td>2023-02-09 14:37:35.67893+00</td>\n",
       "      <td>13.71305</td>\n",
       "      <td>100.55411</td>\n",
       "    </tr>\n",
       "  </tbody>\n",
       "</table>\n",
       "</div>"
      ],
      "text/plain": [
       "      type                     organization       comment   \n",
       "0  [จราจร]                    [เขตห้วยขวาง]  รถติดนานแล้ว  \\\n",
       "1    [ถนน]                   [เขตคลองสามวา]        ถนนพัง   \n",
       "2    [ถนน]  [เขตคลองเตย, สำนักการโยธา กทม.]      ถนนชำรุด   \n",
       "\n",
       "                  coords   \n",
       "0  [100.56405, 13.75106]  \\\n",
       "1  [100.69372, 13.89715]   \n",
       "2  [100.55411, 13.71305]   \n",
       "\n",
       "                                                                            address   \n",
       "0        46 ถ. อโศก - ดินแดง แขวง บางกะปิ เขตห้วยขวาง กรุงเทพมหานคร 10310 ประเทศไทย  \\\n",
       "1  26/2 ถนน กาญจนาฎเษก แขวง สามวาตะวันตก เขตคลองสามวา กรุงเทพมหานคร 10510 ประเทศไทย   \n",
       "2           29 ถนน เชื้อเพลิง แขวง คลองเตย เขตคลองเตย กรุงเทพมหานคร 10110 ประเทศไทย   \n",
       "\n",
       "    subdistrict   district       province                      timestamp   \n",
       "0       บางกะปิ   ห้วยขวาง  กรุงเทพมหานคร  2022-07-01 00:01:11.529841+00  \\\n",
       "1  สามวาตะวันตก  คลองสามวา  กรุงเทพมหานคร  2022-07-01 00:01:56.896927+00   \n",
       "2       คลองเตย    คลองเตย  กรุงเทพมหานคร  2022-07-01 00:03:18.721622+00   \n",
       "\n",
       "       state                  last_activity  latitude  longitude  \n",
       "0  เสร็จสิ้น  2022-08-01 14:19:25.174322+00  13.75106  100.56405  \n",
       "1  เสร็จสิ้น  2022-12-13 07:38:21.633096+00  13.89715  100.69372  \n",
       "2  เสร็จสิ้น   2023-02-09 14:37:35.67893+00  13.71305  100.55411  "
      ]
     },
     "execution_count": 38,
     "metadata": {},
     "output_type": "execute_result"
    }
   ],
   "source": [
    "cleaned_df.head(3)"
   ]
  },
  {
   "attachments": {},
   "cell_type": "markdown",
   "metadata": {},
   "source": [
    "#### Processed datetime"
   ]
  },
  {
   "cell_type": "code",
   "execution_count": null,
   "metadata": {},
   "outputs": [],
   "source": [
    "cleaned_df['timestamp'] = pd.to_datetime(cleaned_df.timestamp, utc=True)\n",
    "cleaned_df['last_activity'] = pd.to_datetime(cleaned_df.last_activity, utc=True)"
   ]
  },
  {
   "cell_type": "code",
   "execution_count": null,
   "metadata": {},
   "outputs": [],
   "source": [
    "def get_delta_hour(row):\n",
    "    start = row.timestamp\n",
    "    end = row.last_activity\n",
    "    delta = (end - start).total_seconds()\n",
    "    return round(delta / 3600, 4)"
   ]
  },
  {
   "cell_type": "code",
   "execution_count": null,
   "metadata": {},
   "outputs": [
    {
     "data": {
      "text/html": [
       "<div>\n",
       "<style scoped>\n",
       "    .dataframe tbody tr th:only-of-type {\n",
       "        vertical-align: middle;\n",
       "    }\n",
       "\n",
       "    .dataframe tbody tr th {\n",
       "        vertical-align: top;\n",
       "    }\n",
       "\n",
       "    .dataframe thead th {\n",
       "        text-align: right;\n",
       "    }\n",
       "</style>\n",
       "<table border=\"1\" class=\"dataframe\">\n",
       "  <thead>\n",
       "    <tr style=\"text-align: right;\">\n",
       "      <th></th>\n",
       "      <th>type</th>\n",
       "      <th>organization</th>\n",
       "      <th>comment</th>\n",
       "      <th>coords</th>\n",
       "      <th>address</th>\n",
       "      <th>subdistrict</th>\n",
       "      <th>district</th>\n",
       "      <th>province</th>\n",
       "      <th>timestamp</th>\n",
       "      <th>state</th>\n",
       "      <th>last_activity</th>\n",
       "      <th>latitude</th>\n",
       "      <th>longitude</th>\n",
       "      <th>hour_spend</th>\n",
       "    </tr>\n",
       "  </thead>\n",
       "  <tbody>\n",
       "    <tr>\n",
       "      <th>70833</th>\n",
       "      <td>[เสียงรบกวน]</td>\n",
       "      <td>[เขตคันนายาว]</td>\n",
       "      <td>ยังมี เสียงรบกวนดังอยู่ #1555 #bkkrongtook</td>\n",
       "      <td>[100.68933, 13.80303]</td>\n",
       "      <td>78 ราณี 7 ซอย 3 แขวง คันนายาว เขตคันนายาว กรุงเทพมหานคร 10230 ประเทศไทย</td>\n",
       "      <td>คันนายาว</td>\n",
       "      <td>คันนายาว</td>\n",
       "      <td>จังหวัดกรุงเทพมหานคร</td>\n",
       "      <td>2022-12-31 19:45:31.491793+00:00</td>\n",
       "      <td>เสร็จสิ้น</td>\n",
       "      <td>2023-01-11 07:36:42.197438+00:00</td>\n",
       "      <td>13.80303</td>\n",
       "      <td>100.68933</td>\n",
       "      <td>251.8530</td>\n",
       "    </tr>\n",
       "    <tr>\n",
       "      <th>70834</th>\n",
       "      <td>[ความสะอาด]</td>\n",
       "      <td>[เขตประเวศ, สำนักสิ่งแวดล้อม กทม.]</td>\n",
       "      <td>เริ่มปีใหม่ 1/1/66 \\nตี 2 กับ 51 นาที \\nกลิ่นขยะเหม็นยังคงอยู่</td>\n",
       "      <td>[100.68078, 13.70914]</td>\n",
       "      <td>98/85 เฉลิมพระเกีรยติ ร.9 ซอย 67 แขวง ประเวศ เขต ประเวศ กรุงเทพมหานคร 10250 ประเทศไทย</td>\n",
       "      <td>ประเวศ</td>\n",
       "      <td>ประเวศ</td>\n",
       "      <td>กรุงเทพมหานคร</td>\n",
       "      <td>2022-12-31 19:53:08.438898+00:00</td>\n",
       "      <td>เสร็จสิ้น</td>\n",
       "      <td>2023-01-10 03:20:53.308490+00:00</td>\n",
       "      <td>13.70914</td>\n",
       "      <td>100.68078</td>\n",
       "      <td>223.4625</td>\n",
       "    </tr>\n",
       "    <tr>\n",
       "      <th>70835</th>\n",
       "      <td>[ถนน]</td>\n",
       "      <td>[เขตป้อมปราบศัตรูพ่าย]</td>\n",
       "      <td>ซอย (ไม่ทราบชื่อ) ถนนมังกร เขตป้อมปราบศัตรูพ่าย\\nเข้าซอยดังกล่าว (จุดสังเกตเป็นซอยข้างวัดพลับพลาไชย ตรงข้ามอู่รถสามล้อ) บริเวณสุดแนวตรงข้ามวัดพลับพลาไชย พบร้านขายของชำ (ไม่ทราบชื่อ) ตั้งวงดื่มสุรา เปิดเพลง ส่งเสียงดังรบกวน ช่วงเวลาตั้งแต่ 21.00 น. เป็นต้นไป เป็นประจำบ่อยครั้ง #1555 #bkkrongtook</td>\n",
       "      <td>[100.51280, 13.74480]</td>\n",
       "      <td>203 ถนน มังกร แขวง ป้อมปราบ เขตป้อมปราบศัตรูพ่าย กรุงเทพมหานคร 10100 ประเทศไทย</td>\n",
       "      <td>ป้อมปราบ</td>\n",
       "      <td>ป้อมปราบศัตรูพ่าย</td>\n",
       "      <td>จังหวัดกรุงเทพมหานคร</td>\n",
       "      <td>2022-12-31 20:37:37.226395+00:00</td>\n",
       "      <td>เสร็จสิ้น</td>\n",
       "      <td>2023-01-04 12:05:40.819003+00:00</td>\n",
       "      <td>13.74480</td>\n",
       "      <td>100.51280</td>\n",
       "      <td>87.4677</td>\n",
       "    </tr>\n",
       "    <tr>\n",
       "      <th>70836</th>\n",
       "      <td>[ถนน, เสียงรบกวน]</td>\n",
       "      <td>[เขตบางบอน, เขตภาษีเจริญ]</td>\n",
       "      <td>เปิดเพลงเสียงดังตั้งแต่ตอนเช้าจนถึงตีสี่ยังไม่หยุด เสียงดังรบกวนมากมีลูกเล็กนอนไม่ได้\\nเคยโทรหา 191 สามรอบแล้วยังไม่มีเจ้าหน้าที่เข้าไปตรวจดูเลยโทรมาร้องทุกข์ 1555\\n\\nจุดเกิดเหตุอยู่ตรง ห้างหุ่นส่วนจำกัดบางบอนค้าส่ง ถนนบางบอน 1 แยก 12\\n\\n #1555 #bkkrongtook</td>\n",
       "      <td>[100.42785, 13.68924]</td>\n",
       "      <td>บางบอน 1 คลองบางบอน บางบอน กรุงเทพมหานคร</td>\n",
       "      <td>บางหว้า</td>\n",
       "      <td>ภาษีเจริญ</td>\n",
       "      <td>จังหวัดกรุงเทพมหานคร</td>\n",
       "      <td>2022-12-31 20:52:02.074206+00:00</td>\n",
       "      <td>เสร็จสิ้น</td>\n",
       "      <td>2023-01-03 07:32:03.519477+00:00</td>\n",
       "      <td>13.68924</td>\n",
       "      <td>100.42785</td>\n",
       "      <td>58.6671</td>\n",
       "    </tr>\n",
       "    <tr>\n",
       "      <th>70837</th>\n",
       "      <td>[ต้นไม้, ความสะอาด, จราจร]</td>\n",
       "      <td>[เขตคันนายาว]</td>\n",
       "      <td>ไม่มีการจัดหรือตัดแต่งต้นไม้ที่ยื่นออกมาบนถนน รถต้องขับชนหรือเบียดกิ่งไม้เหมือนเดิม. ทางแคบเหมือนเดิม กรวยจราจรถูกนำกลับมาตั้งที่เดิมเบียดทางไว้ กั๊กพื้นที่ไว้ ผิด พ.ร.บ. รักษาความสะอาดและความเป็นระเบียบเรียบร้อย</td>\n",
       "      <td>[100.67610, 13.83646]</td>\n",
       "      <td>120/394 ซ. กาญจนาภิเษก 11/1 แยก 1-1 แขวง คันนายาว เขตคันนายาว กรุงเทพมหานคร 10230 ประเทศไทย</td>\n",
       "      <td>คันนายาว</td>\n",
       "      <td>คันนายาว</td>\n",
       "      <td>กรุงเทพมหานคร</td>\n",
       "      <td>2022-12-31 23:58:12.801312+00:00</td>\n",
       "      <td>เสร็จสิ้น</td>\n",
       "      <td>2023-01-02 02:01:46.088099+00:00</td>\n",
       "      <td>13.83646</td>\n",
       "      <td>100.67610</td>\n",
       "      <td>26.0592</td>\n",
       "    </tr>\n",
       "  </tbody>\n",
       "</table>\n",
       "</div>"
      ],
      "text/plain": [
       "                             type                        organization   \n",
       "70833                [เสียงรบกวน]                       [เขตคันนายาว]  \\\n",
       "70834                 [ความสะอาด]  [เขตประเวศ, สำนักสิ่งแวดล้อม กทม.]   \n",
       "70835                       [ถนน]              [เขตป้อมปราบศัตรูพ่าย]   \n",
       "70836           [ถนน, เสียงรบกวน]           [เขตบางบอน, เขตภาษีเจริญ]   \n",
       "70837  [ต้นไม้, ความสะอาด, จราจร]                       [เขตคันนายาว]   \n",
       "\n",
       "                                                                                                                                                                                                                                                                                                       comment   \n",
       "70833                                                                                                                                                                                                                                                               ยังมี เสียงรบกวนดังอยู่ #1555 #bkkrongtook  \\\n",
       "70834                                                                                                                                                                                                                                           เริ่มปีใหม่ 1/1/66 \\nตี 2 กับ 51 นาที \\nกลิ่นขยะเหม็นยังคงอยู่   \n",
       "70835  ซอย (ไม่ทราบชื่อ) ถนนมังกร เขตป้อมปราบศัตรูพ่าย\\nเข้าซอยดังกล่าว (จุดสังเกตเป็นซอยข้างวัดพลับพลาไชย ตรงข้ามอู่รถสามล้อ) บริเวณสุดแนวตรงข้ามวัดพลับพลาไชย พบร้านขายของชำ (ไม่ทราบชื่อ) ตั้งวงดื่มสุรา เปิดเพลง ส่งเสียงดังรบกวน ช่วงเวลาตั้งแต่ 21.00 น. เป็นต้นไป เป็นประจำบ่อยครั้ง #1555 #bkkrongtook   \n",
       "70836                                        เปิดเพลงเสียงดังตั้งแต่ตอนเช้าจนถึงตีสี่ยังไม่หยุด เสียงดังรบกวนมากมีลูกเล็กนอนไม่ได้\\nเคยโทรหา 191 สามรอบแล้วยังไม่มีเจ้าหน้าที่เข้าไปตรวจดูเลยโทรมาร้องทุกข์ 1555\\n\\nจุดเกิดเหตุอยู่ตรง ห้างหุ่นส่วนจำกัดบางบอนค้าส่ง ถนนบางบอน 1 แยก 12\\n\\n #1555 #bkkrongtook   \n",
       "70837                                                                                     ไม่มีการจัดหรือตัดแต่งต้นไม้ที่ยื่นออกมาบนถนน รถต้องขับชนหรือเบียดกิ่งไม้เหมือนเดิม. ทางแคบเหมือนเดิม กรวยจราจรถูกนำกลับมาตั้งที่เดิมเบียดทางไว้ กั๊กพื้นที่ไว้ ผิด พ.ร.บ. รักษาความสะอาดและความเป็นระเบียบเรียบร้อย   \n",
       "\n",
       "                      coords   \n",
       "70833  [100.68933, 13.80303]  \\\n",
       "70834  [100.68078, 13.70914]   \n",
       "70835  [100.51280, 13.74480]   \n",
       "70836  [100.42785, 13.68924]   \n",
       "70837  [100.67610, 13.83646]   \n",
       "\n",
       "                                                                                           address   \n",
       "70833                      78 ราณี 7 ซอย 3 แขวง คันนายาว เขตคันนายาว กรุงเทพมหานคร 10230 ประเทศไทย  \\\n",
       "70834        98/85 เฉลิมพระเกีรยติ ร.9 ซอย 67 แขวง ประเวศ เขต ประเวศ กรุงเทพมหานคร 10250 ประเทศไทย   \n",
       "70835               203 ถนน มังกร แขวง ป้อมปราบ เขตป้อมปราบศัตรูพ่าย กรุงเทพมหานคร 10100 ประเทศไทย   \n",
       "70836                                                    บางบอน 1 คลองบางบอน บางบอน กรุงเทพมหานคร    \n",
       "70837  120/394 ซ. กาญจนาภิเษก 11/1 แยก 1-1 แขวง คันนายาว เขตคันนายาว กรุงเทพมหานคร 10230 ประเทศไทย   \n",
       "\n",
       "      subdistrict           district              province   \n",
       "70833    คันนายาว           คันนายาว  จังหวัดกรุงเทพมหานคร  \\\n",
       "70834      ประเวศ             ประเวศ         กรุงเทพมหานคร   \n",
       "70835    ป้อมปราบ  ป้อมปราบศัตรูพ่าย  จังหวัดกรุงเทพมหานคร   \n",
       "70836     บางหว้า          ภาษีเจริญ  จังหวัดกรุงเทพมหานคร   \n",
       "70837    คันนายาว           คันนายาว         กรุงเทพมหานคร   \n",
       "\n",
       "                             timestamp      state   \n",
       "70833 2022-12-31 19:45:31.491793+00:00  เสร็จสิ้น  \\\n",
       "70834 2022-12-31 19:53:08.438898+00:00  เสร็จสิ้น   \n",
       "70835 2022-12-31 20:37:37.226395+00:00  เสร็จสิ้น   \n",
       "70836 2022-12-31 20:52:02.074206+00:00  เสร็จสิ้น   \n",
       "70837 2022-12-31 23:58:12.801312+00:00  เสร็จสิ้น   \n",
       "\n",
       "                         last_activity  latitude  longitude  hour_spend  \n",
       "70833 2023-01-11 07:36:42.197438+00:00  13.80303  100.68933    251.8530  \n",
       "70834 2023-01-10 03:20:53.308490+00:00  13.70914  100.68078    223.4625  \n",
       "70835 2023-01-04 12:05:40.819003+00:00  13.74480  100.51280     87.4677  \n",
       "70836 2023-01-03 07:32:03.519477+00:00  13.68924  100.42785     58.6671  \n",
       "70837 2023-01-02 02:01:46.088099+00:00  13.83646  100.67610     26.0592  "
      ]
     },
     "execution_count": 41,
     "metadata": {},
     "output_type": "execute_result"
    }
   ],
   "source": [
    "cleaned_df.loc[:, 'hour_spend'] = cleaned_df[['timestamp', 'last_activity']].apply(get_delta_hour, axis=1)\n",
    "cleaned_df.tail()"
   ]
  },
  {
   "attachments": {},
   "cell_type": "markdown",
   "metadata": {},
   "source": [
    "#### clean comment text"
   ]
  },
  {
   "cell_type": "code",
   "execution_count": null,
   "metadata": {},
   "outputs": [],
   "source": [
    "import re\n",
    "\n",
    "urlR = r\"(https?:\\/\\/(?:www\\.|(?!www))[a-zA-Z0-9][a-zA-Z0-9-]+[a-zA-Z0-9]\\.[^\\s]{2,}|www\\.[a-zA-Z0-9][a-zA-Z0-9-]+[a-zA-Z0-9]\\.[^\\s]{2,}|https?:\\/\\/(?:www\\.|(?!www))[a-zA-Z0-9]+\\.[^\\s]{2,}|www\\.[a-zA-Z0-9]+\\.[^\\s]{2,})\"\n",
    "hashtagR = r\"#[\\u0E00-\\u0E7Fa-zA-Z]\"\n",
    "emoj = re.compile(\"[\"\n",
    "        u\"\\U0001F600-\\U0001F64F\"  # emoticons\n",
    "        u\"\\U0001F300-\\U0001F5FF\"  # symbols & pictographs\n",
    "        u\"\\U0001F680-\\U0001F6FF\"  # transport & map symbols\n",
    "        u\"\\U0001F1E0-\\U0001F1FF\"  # flags (iOS)\n",
    "        u\"\\U00002500-\\U00002BEF\"  # chinese char\n",
    "        u\"\\U00002702-\\U000027B0\"\n",
    "        u\"\\U00002702-\\U000027B0\"\n",
    "        u\"\\U000024C2-\\U0001F251\"\n",
    "        u\"\\U0001f926-\\U0001f937\"\n",
    "        u\"\\U00010000-\\U0010ffff\"\n",
    "        u\"\\u2640-\\u2642\" \n",
    "        u\"\\u2600-\\u2B55\"\n",
    "        u\"\\u200d\"\n",
    "        u\"\\u23cf\"\n",
    "        u\"\\u23e9\"\n",
    "        u\"\\u231a\"\n",
    "        u\"\\ufe0f\"  # dingbats\n",
    "        u\"\\u3030\"\n",
    "                      \"]+\", re.UNICODE)\n",
    "\n",
    "def clean_text(text):\n",
    "    text = re.sub(urlR, ' ', text)\n",
    "    text = re.sub(hashtagR, '', text)\n",
    "    text = re.sub(emoj, '', text)\n",
    "    text = text.replace('\\n', ' ')\n",
    "    text = re.sub(r\"[,.;@#?!&$]+\\ *\", \" \", text)\n",
    "    return text.strip()"
   ]
  },
  {
   "cell_type": "code",
   "execution_count": null,
   "metadata": {},
   "outputs": [],
   "source": [
    "cleaned_df['comment'] = cleaned_df['comment'].apply(clean_text)"
   ]
  },
  {
   "cell_type": "code",
   "execution_count": null,
   "metadata": {},
   "outputs": [
    {
     "data": {
      "text/html": [
       "<div>\n",
       "<style scoped>\n",
       "    .dataframe tbody tr th:only-of-type {\n",
       "        vertical-align: middle;\n",
       "    }\n",
       "\n",
       "    .dataframe tbody tr th {\n",
       "        vertical-align: top;\n",
       "    }\n",
       "\n",
       "    .dataframe thead th {\n",
       "        text-align: right;\n",
       "    }\n",
       "</style>\n",
       "<table border=\"1\" class=\"dataframe\">\n",
       "  <thead>\n",
       "    <tr style=\"text-align: right;\">\n",
       "      <th></th>\n",
       "      <th>type</th>\n",
       "      <th>organization</th>\n",
       "      <th>comment</th>\n",
       "      <th>coords</th>\n",
       "      <th>address</th>\n",
       "      <th>subdistrict</th>\n",
       "      <th>district</th>\n",
       "      <th>province</th>\n",
       "      <th>timestamp</th>\n",
       "      <th>state</th>\n",
       "      <th>last_activity</th>\n",
       "      <th>latitude</th>\n",
       "      <th>longitude</th>\n",
       "      <th>hour_spend</th>\n",
       "    </tr>\n",
       "  </thead>\n",
       "  <tbody>\n",
       "    <tr>\n",
       "      <th>0</th>\n",
       "      <td>[จราจร]</td>\n",
       "      <td>[เขตห้วยขวาง]</td>\n",
       "      <td>รถติดนานแล้ว</td>\n",
       "      <td>[100.56405, 13.75106]</td>\n",
       "      <td>46 ถ. อโศก - ดินแดง แขวง บางกะปิ เขตห้วยขวาง กรุงเทพมหานคร 10310 ประเทศไทย</td>\n",
       "      <td>บางกะปิ</td>\n",
       "      <td>ห้วยขวาง</td>\n",
       "      <td>กรุงเทพมหานคร</td>\n",
       "      <td>2022-07-01 00:01:11.529841+00:00</td>\n",
       "      <td>เสร็จสิ้น</td>\n",
       "      <td>2022-08-01 14:19:25.174322+00:00</td>\n",
       "      <td>13.75106</td>\n",
       "      <td>100.56405</td>\n",
       "      <td>758.3038</td>\n",
       "    </tr>\n",
       "    <tr>\n",
       "      <th>1</th>\n",
       "      <td>[ถนน]</td>\n",
       "      <td>[เขตคลองสามวา]</td>\n",
       "      <td>ถนนพัง</td>\n",
       "      <td>[100.69372, 13.89715]</td>\n",
       "      <td>26/2 ถนน กาญจนาฎเษก แขวง สามวาตะวันตก เขตคลองสามวา กรุงเทพมหานคร 10510 ประเทศไทย</td>\n",
       "      <td>สามวาตะวันตก</td>\n",
       "      <td>คลองสามวา</td>\n",
       "      <td>กรุงเทพมหานคร</td>\n",
       "      <td>2022-07-01 00:01:56.896927+00:00</td>\n",
       "      <td>เสร็จสิ้น</td>\n",
       "      <td>2022-12-13 07:38:21.633096+00:00</td>\n",
       "      <td>13.89715</td>\n",
       "      <td>100.69372</td>\n",
       "      <td>3967.6069</td>\n",
       "    </tr>\n",
       "    <tr>\n",
       "      <th>2</th>\n",
       "      <td>[ถนน]</td>\n",
       "      <td>[เขตคลองเตย, สำนักการโยธา กทม.]</td>\n",
       "      <td>ถนนชำรุด</td>\n",
       "      <td>[100.55411, 13.71305]</td>\n",
       "      <td>29 ถนน เชื้อเพลิง แขวง คลองเตย เขตคลองเตย กรุงเทพมหานคร 10110 ประเทศไทย</td>\n",
       "      <td>คลองเตย</td>\n",
       "      <td>คลองเตย</td>\n",
       "      <td>กรุงเทพมหานคร</td>\n",
       "      <td>2022-07-01 00:03:18.721622+00:00</td>\n",
       "      <td>เสร็จสิ้น</td>\n",
       "      <td>2023-02-09 14:37:35.678930+00:00</td>\n",
       "      <td>13.71305</td>\n",
       "      <td>100.55411</td>\n",
       "      <td>5366.5714</td>\n",
       "    </tr>\n",
       "  </tbody>\n",
       "</table>\n",
       "</div>"
      ],
      "text/plain": [
       "      type                     organization       comment   \n",
       "0  [จราจร]                    [เขตห้วยขวาง]  รถติดนานแล้ว  \\\n",
       "1    [ถนน]                   [เขตคลองสามวา]        ถนนพัง   \n",
       "2    [ถนน]  [เขตคลองเตย, สำนักการโยธา กทม.]      ถนนชำรุด   \n",
       "\n",
       "                  coords   \n",
       "0  [100.56405, 13.75106]  \\\n",
       "1  [100.69372, 13.89715]   \n",
       "2  [100.55411, 13.71305]   \n",
       "\n",
       "                                                                            address   \n",
       "0        46 ถ. อโศก - ดินแดง แขวง บางกะปิ เขตห้วยขวาง กรุงเทพมหานคร 10310 ประเทศไทย  \\\n",
       "1  26/2 ถนน กาญจนาฎเษก แขวง สามวาตะวันตก เขตคลองสามวา กรุงเทพมหานคร 10510 ประเทศไทย   \n",
       "2           29 ถนน เชื้อเพลิง แขวง คลองเตย เขตคลองเตย กรุงเทพมหานคร 10110 ประเทศไทย   \n",
       "\n",
       "    subdistrict   district       province                        timestamp   \n",
       "0       บางกะปิ   ห้วยขวาง  กรุงเทพมหานคร 2022-07-01 00:01:11.529841+00:00  \\\n",
       "1  สามวาตะวันตก  คลองสามวา  กรุงเทพมหานคร 2022-07-01 00:01:56.896927+00:00   \n",
       "2       คลองเตย    คลองเตย  กรุงเทพมหานคร 2022-07-01 00:03:18.721622+00:00   \n",
       "\n",
       "       state                    last_activity  latitude  longitude  hour_spend  \n",
       "0  เสร็จสิ้น 2022-08-01 14:19:25.174322+00:00  13.75106  100.56405    758.3038  \n",
       "1  เสร็จสิ้น 2022-12-13 07:38:21.633096+00:00  13.89715  100.69372   3967.6069  \n",
       "2  เสร็จสิ้น 2023-02-09 14:37:35.678930+00:00  13.71305  100.55411   5366.5714  "
      ]
     },
     "execution_count": 44,
     "metadata": {},
     "output_type": "execute_result"
    }
   ],
   "source": [
    "cleaned_df.head(3)"
   ]
  },
  {
   "attachments": {},
   "cell_type": "markdown",
   "metadata": {},
   "source": [
    "#### plot distribution"
   ]
  },
  {
   "cell_type": "code",
   "execution_count": null,
   "metadata": {},
   "outputs": [],
   "source": [
    "import seaborn as sns\n",
    "from sklearn import preprocessing\n",
    "import math"
   ]
  },
  {
   "cell_type": "code",
   "execution_count": null,
   "metadata": {},
   "outputs": [
    {
     "data": {
      "text/plain": [
       "Text(0.5, 1.0, 'Box plots for min-max scaled features')"
      ]
     },
     "execution_count": 46,
     "metadata": {},
     "output_type": "execute_result"
    },
    {
     "data": {
      "image/png": "[encoded data removed]",
      "text/plain": [
       "<Figure size 640x480 with 1 Axes>"
      ]
     },
     "metadata": {},
     "output_type": "display_data"
    }
   ],
   "source": [
    "minmax_scaler = preprocessing.MinMaxScaler()\n",
    "\n",
    "numerical_features = ['latitude','longitude']\n",
    "\n",
    "dataScaled = pd.DataFrame(minmax_scaler.fit_transform(cleaned_df[numerical_features]), columns=numerical_features)\n",
    "#viz_2=sns.violinplot(data=data, y=['price','number_of_reviews'])\n",
    "ax = sns.boxplot(data=dataScaled, orient=\"h\")\n",
    "ax.set_title(\"Box plots for min-max scaled features\")"
   ]
  },
  {
   "cell_type": "code",
   "execution_count": null,
   "metadata": {},
   "outputs": [
    {
     "name": "stdout",
     "output_type": "stream",
     "text": [
      "Latitude skewness: 0.43\n",
      "Longitude skewness: 0.27\n"
     ]
    },
    {
     "data": {
      "image/png": "[encoded data removed]",
      "text/plain": [
       "<Figure size 640x480 with 1 Axes>"
      ]
     },
     "metadata": {},
     "output_type": "display_data"
    }
   ],
   "source": [
    "sns.histplot(dataScaled[['latitude', 'longitude']], kde=True).set_title(\"Distribution of TraffyFondue latitude, longtitude\")\n",
    "print(\"Latitude skewness: %.2f\"%(dataScaled['latitude'].skew()))\n",
    "print(\"Longitude skewness: %.2f\"%(dataScaled['longitude'].skew()))"
   ]
  },
  {
   "cell_type": "code",
   "execution_count": 48,
   "metadata": {},
   "outputs": [
    {
     "name": "stdout",
     "output_type": "stream",
     "text": [
      "Skewness: 1.57\n"
     ]
    },
    {
     "data": {
      "image/png": "[encoded data removed]",
      "text/plain": [
       "<Figure size 640x480 with 1 Axes>"
      ]
     },
     "metadata": {},
     "output_type": "display_data"
    }
   ],
   "source": [
    "sns.histplot(cleaned_df['hour_spend'], kde=True).set_title(\"Distribution of TraffyFondue hour_spend\")\n",
    "print(\"Skewness: %.2f\"%(cleaned_df['hour_spend'].skew()))"
   ]
  },
  {
   "cell_type": "code",
   "execution_count": 49,
   "metadata": {},
   "outputs": [],
   "source": [
    "cleaned_df['hour_spend_log1p'] = cleaned_df['hour_spend'].apply(math.log1p)"
   ]
  },
  {
   "cell_type": "code",
   "execution_count": 50,
   "metadata": {},
   "outputs": [
    {
     "data": {
      "text/plain": [
       "Text(0.5, 1.0, 'Box plots for min-max scaled hour_spend')"
      ]
     },
     "execution_count": 50,
     "metadata": {},
     "output_type": "execute_result"
    },
    {
     "data": {
      "image/png": "[encoded data removed]",
      "text/plain": [
       "<Figure size 640x480 with 1 Axes>"
      ]
     },
     "metadata": {},
     "output_type": "display_data"
    }
   ],
   "source": [
    "min_max_scaler = preprocessing.MinMaxScaler()\n",
    "\n",
    "hour_spend_log_scaled = pd.DataFrame(min_max_scaler.fit_transform(cleaned_df[['hour_spend_log1p']]), columns=['hour_spend_log1p'])\n",
    "ax = sns.boxplot(data=hour_spend_log_scaled, orient=\"h\")\n",
    "ax.set_title(\"Box plots for min-max scaled hour_spend\")"
   ]
  },
  {
   "cell_type": "code",
   "execution_count": 51,
   "metadata": {},
   "outputs": [
    {
     "name": "stdout",
     "output_type": "stream",
     "text": [
      "Skewness: -0.33\n"
     ]
    },
    {
     "data": {
      "image/png": "[encoded data removed]",
      "text/plain": [
       "<Figure size 640x480 with 1 Axes>"
      ]
     },
     "metadata": {},
     "output_type": "display_data"
    }
   ],
   "source": [
    "sns.histplot(cleaned_df['hour_spend_log1p'], kde=True).set_title(\"Distribution of TraffyFondue hour_spend_log1p\")\n",
    "print(\"Skewness: %.2f\"%(cleaned_df['hour_spend_log1p'].skew()))"
   ]
  },
  {
   "attachments": {},
   "cell_type": "markdown",
   "metadata": {},
   "source": [
    "### Train test split"
   ]
  },
  {
   "cell_type": "code",
   "execution_count": 52,
   "metadata": {},
   "outputs": [],
   "source": [
    "from sklearn.model_selection import train_test_split"
   ]
  },
  {
   "cell_type": "code",
   "execution_count": 55,
   "metadata": {},
   "outputs": [],
   "source": [
    "rand_seed = 54\n",
    "all_features = ['type', 'organization', 'latitude', 'longitude', 'comment', 'hour_spend', 'hour_spend_log1p']\n",
    "\n",
    "data = cleaned_df[all_features]"
   ]
  },
  {
   "cell_type": "code",
   "execution_count": 56,
   "metadata": {},
   "outputs": [],
   "source": [
    "data_train, data_test = train_test_split(\n",
    "    data, test_size=0.2, random_state=rand_seed)\n",
    "\n",
    "data_train.to_json('data/train.json')\n",
    "data_test.to_json('data/test.json')"
   ]
  },
  {
   "attachments": {},
   "cell_type": "markdown",
   "metadata": {},
   "source": [
    "### feature engineering"
   ]
  },
  {
   "attachments": {},
   "cell_type": "markdown",
   "metadata": {},
   "source": [
    "#### tranforms organization and type"
   ]
  },
  {
   "cell_type": "code",
   "execution_count": 2,
   "metadata": {},
   "outputs": [],
   "source": [
    "from train.utils import make_binary_feature\n",
    "import scipy"
   ]
  },
  {
   "cell_type": "code",
   "execution_count": 22,
   "metadata": {},
   "outputs": [],
   "source": [
    "data_train = pd.read_json('data/train.json')\n",
    "data_train = data_train.reset_index(drop=True)"
   ]
  },
  {
   "cell_type": "code",
   "execution_count": 11,
   "metadata": {},
   "outputs": [],
   "source": [
    "data_test = pd.read_json('data/test.json')\n",
    "data_test = data_test.reset_index(drop=True)"
   ]
  },
  {
   "cell_type": "code",
   "execution_count": 12,
   "metadata": {},
   "outputs": [
    {
     "data": {
      "text/html": [
       "<div>\n",
       "<style scoped>\n",
       "    .dataframe tbody tr th:only-of-type {\n",
       "        vertical-align: middle;\n",
       "    }\n",
       "\n",
       "    .dataframe tbody tr th {\n",
       "        vertical-align: top;\n",
       "    }\n",
       "\n",
       "    .dataframe thead th {\n",
       "        text-align: right;\n",
       "    }\n",
       "</style>\n",
       "<table border=\"1\" class=\"dataframe\">\n",
       "  <thead>\n",
       "    <tr style=\"text-align: right;\">\n",
       "      <th></th>\n",
       "      <th>type</th>\n",
       "      <th>organization</th>\n",
       "      <th>latitude</th>\n",
       "      <th>longitude</th>\n",
       "      <th>comment</th>\n",
       "      <th>hour_spend</th>\n",
       "      <th>hour_spend_log1p</th>\n",
       "    </tr>\n",
       "  </thead>\n",
       "  <tbody>\n",
       "    <tr>\n",
       "      <th>14163</th>\n",
       "      <td>[ถนน]</td>\n",
       "      <td>[เขตบางคอแหลม]</td>\n",
       "      <td>13.68787</td>\n",
       "      <td>100.51702</td>\n",
       "      <td>ตัวเงินตัวทองที่เก็บจากถนนเมื่อวาน</td>\n",
       "      <td>2.6143</td>\n",
       "      <td>1.284898</td>\n",
       "    </tr>\n",
       "    <tr>\n",
       "      <th>14164</th>\n",
       "      <td>[แสงสว่าง]</td>\n",
       "      <td>[เขตบางเขน]</td>\n",
       "      <td>13.88880</td>\n",
       "      <td>100.59821</td>\n",
       "      <td>ไฟฟ้าหลอดดับมานาน อยู่ท้ายซอยมืดมาก</td>\n",
       "      <td>258.4635</td>\n",
       "      <td>5.558616</td>\n",
       "    </tr>\n",
       "    <tr>\n",
       "      <th>14165</th>\n",
       "      <td>[ทางเท้า]</td>\n",
       "      <td>[เขตทวีวัฒนา, สำนักการโยธา กทม.]</td>\n",
       "      <td>13.76828</td>\n",
       "      <td>100.34454</td>\n",
       "      <td>ฟุตบาทพังหน้ามหาลัยกรุงเทพธนบุรีครับ</td>\n",
       "      <td>3338.8878</td>\n",
       "      <td>8.113692</td>\n",
       "    </tr>\n",
       "    <tr>\n",
       "      <th>14166</th>\n",
       "      <td>[ต้นไม้]</td>\n",
       "      <td>[เขตป้อมปราบศัตรูพ่าย]</td>\n",
       "      <td>13.75569</td>\n",
       "      <td>100.50631</td>\n",
       "      <td>1 ทางลงไปท่าเรือผ่านฟ้า ทางขึ้นลงแคบมาก แล้วต้...</td>\n",
       "      <td>26.4544</td>\n",
       "      <td>3.312526</td>\n",
       "    </tr>\n",
       "    <tr>\n",
       "      <th>14167</th>\n",
       "      <td>[น้ำท่วม]</td>\n",
       "      <td>[เขตบางเขน]</td>\n",
       "      <td>13.87655</td>\n",
       "      <td>100.59666</td>\n",
       "      <td>วงเวียนบางเขนน้ำท่วมอีกแล้ว</td>\n",
       "      <td>165.2365</td>\n",
       "      <td>5.113411</td>\n",
       "    </tr>\n",
       "  </tbody>\n",
       "</table>\n",
       "</div>"
      ],
      "text/plain": [
       "             type                      organization  latitude  longitude   \n",
       "14163       [ถนน]                    [เขตบางคอแหลม]  13.68787  100.51702  \\\n",
       "14164  [แสงสว่าง]                       [เขตบางเขน]  13.88880  100.59821   \n",
       "14165   [ทางเท้า]  [เขตทวีวัฒนา, สำนักการโยธา กทม.]  13.76828  100.34454   \n",
       "14166    [ต้นไม้]            [เขตป้อมปราบศัตรูพ่าย]  13.75569  100.50631   \n",
       "14167   [น้ำท่วม]                       [เขตบางเขน]  13.87655  100.59666   \n",
       "\n",
       "                                                 comment  hour_spend   \n",
       "14163                 ตัวเงินตัวทองที่เก็บจากถนนเมื่อวาน      2.6143  \\\n",
       "14164                ไฟฟ้าหลอดดับมานาน อยู่ท้ายซอยมืดมาก    258.4635   \n",
       "14165               ฟุตบาทพังหน้ามหาลัยกรุงเทพธนบุรีครับ   3338.8878   \n",
       "14166  1 ทางลงไปท่าเรือผ่านฟ้า ทางขึ้นลงแคบมาก แล้วต้...     26.4544   \n",
       "14167                        วงเวียนบางเขนน้ำท่วมอีกแล้ว    165.2365   \n",
       "\n",
       "       hour_spend_log1p  \n",
       "14163          1.284898  \n",
       "14164          5.558616  \n",
       "14165          8.113692  \n",
       "14166          3.312526  \n",
       "14167          5.113411  "
      ]
     },
     "execution_count": 12,
     "metadata": {},
     "output_type": "execute_result"
    }
   ],
   "source": [
    "data_test.tail()"
   ]
  },
  {
   "cell_type": "code",
   "execution_count": 23,
   "metadata": {},
   "outputs": [
    {
     "data": {
      "text/html": [
       "<div>\n",
       "<style scoped>\n",
       "    .dataframe tbody tr th:only-of-type {\n",
       "        vertical-align: middle;\n",
       "    }\n",
       "\n",
       "    .dataframe tbody tr th {\n",
       "        vertical-align: top;\n",
       "    }\n",
       "\n",
       "    .dataframe thead th {\n",
       "        text-align: right;\n",
       "    }\n",
       "</style>\n",
       "<table border=\"1\" class=\"dataframe\">\n",
       "  <thead>\n",
       "    <tr style=\"text-align: right;\">\n",
       "      <th></th>\n",
       "      <th>type</th>\n",
       "      <th>organization</th>\n",
       "      <th>latitude</th>\n",
       "      <th>longitude</th>\n",
       "      <th>comment</th>\n",
       "      <th>hour_spend</th>\n",
       "      <th>hour_spend_log1p</th>\n",
       "    </tr>\n",
       "  </thead>\n",
       "  <tbody>\n",
       "    <tr>\n",
       "      <th>0</th>\n",
       "      <td>[จราจร]</td>\n",
       "      <td>[เขตสาทร]</td>\n",
       "      <td>13.70627</td>\n",
       "      <td>100.52703</td>\n",
       "      <td>ขายของบนทางเท้าทุกวันโดยเฉพาะตอนเย็น ทำให้ฟุตบาทสกปรก และรถติดเพราะคนจอดมาซื้อของ</td>\n",
       "      <td>3.1209</td>\n",
       "      <td>1.416072</td>\n",
       "    </tr>\n",
       "    <tr>\n",
       "      <th>1</th>\n",
       "      <td>[ถนน]</td>\n",
       "      <td>[เขตห้วยขวาง]</td>\n",
       "      <td>13.75177</td>\n",
       "      <td>100.59350</td>\n",
       "      <td>ถนนชำรุด</td>\n",
       "      <td>3654.0707</td>\n",
       "      <td>8.203871</td>\n",
       "    </tr>\n",
       "    <tr>\n",
       "      <th>2</th>\n",
       "      <td>[ความสะอาด]</td>\n",
       "      <td>[เขตบึงกุ่ม]</td>\n",
       "      <td>13.79052</td>\n",
       "      <td>100.65185</td>\n",
       "      <td>แจ้งติดป้าย   ผิด พ ร บ รักษาความสะอาด และความเป็นระเบียบเรียบร้อยของบ้านเมือง   เค พี เจ มอเตอร์ ถ นวมินทร์  ขอขอบคุณ เจ้าหน้าที่ทุกท่าน ในการจัดการปัญหาดังกล่าว</td>\n",
       "      <td>9.0267</td>\n",
       "      <td>2.305252</td>\n",
       "    </tr>\n",
       "    <tr>\n",
       "      <th>3</th>\n",
       "      <td>[กีดขวาง]</td>\n",
       "      <td>[เขตพระโขนง]</td>\n",
       "      <td>13.68953</td>\n",
       "      <td>100.61746</td>\n",
       "      <td>สุขุมวิท 101 ซอย 28 หมู่บ้านนพรัตน์แจ้งเรื่องกระถางต้นไม้และรางไม้วางอยู่บนถนนเนื่องจากบ้านที่มาสร้างใหม่นำมากีดขวางการสัญจรของคนในหมู่บ้านทำให้เข้าออกลำบากช่วยยกออกให้ด้วยครับขอบคุณครับ</td>\n",
       "      <td>99.7227</td>\n",
       "      <td>4.612371</td>\n",
       "    </tr>\n",
       "    <tr>\n",
       "      <th>4</th>\n",
       "      <td>[เสียงรบกวน]</td>\n",
       "      <td>[เขตประเวศ]</td>\n",
       "      <td>13.68791</td>\n",
       "      <td>100.63943</td>\n",
       "      <td>ไก่ขันเสียงดังเวลา ตี 3-5 ทำให้ไม่สามารถนอนหลับพักผ่อนได้</td>\n",
       "      <td>45.1110</td>\n",
       "      <td>3.831052</td>\n",
       "    </tr>\n",
       "  </tbody>\n",
       "</table>\n",
       "</div>"
      ],
      "text/plain": [
       "           type   organization  latitude  longitude   \n",
       "0       [จราจร]      [เขตสาทร]  13.70627  100.52703  \\\n",
       "1         [ถนน]  [เขตห้วยขวาง]  13.75177  100.59350   \n",
       "2   [ความสะอาด]   [เขตบึงกุ่ม]  13.79052  100.65185   \n",
       "3     [กีดขวาง]   [เขตพระโขนง]  13.68953  100.61746   \n",
       "4  [เสียงรบกวน]    [เขตประเวศ]  13.68791  100.63943   \n",
       "\n",
       "                                                                                                                                                                                      comment   \n",
       "0                                                                                                           ขายของบนทางเท้าทุกวันโดยเฉพาะตอนเย็น ทำให้ฟุตบาทสกปรก และรถติดเพราะคนจอดมาซื้อของ  \\\n",
       "1                                                                                                                                                                                    ถนนชำรุด   \n",
       "2                          แจ้งติดป้าย   ผิด พ ร บ รักษาความสะอาด และความเป็นระเบียบเรียบร้อยของบ้านเมือง   เค พี เจ มอเตอร์ ถ นวมินทร์  ขอขอบคุณ เจ้าหน้าที่ทุกท่าน ในการจัดการปัญหาดังกล่าว   \n",
       "3  สุขุมวิท 101 ซอย 28 หมู่บ้านนพรัตน์แจ้งเรื่องกระถางต้นไม้และรางไม้วางอยู่บนถนนเนื่องจากบ้านที่มาสร้างใหม่นำมากีดขวางการสัญจรของคนในหมู่บ้านทำให้เข้าออกลำบากช่วยยกออกให้ด้วยครับขอบคุณครับ   \n",
       "4                                                                                                                                   ไก่ขันเสียงดังเวลา ตี 3-5 ทำให้ไม่สามารถนอนหลับพักผ่อนได้   \n",
       "\n",
       "   hour_spend  hour_spend_log1p  \n",
       "0      3.1209          1.416072  \n",
       "1   3654.0707          8.203871  \n",
       "2      9.0267          2.305252  \n",
       "3     99.7227          4.612371  \n",
       "4     45.1110          3.831052  "
      ]
     },
     "execution_count": 23,
     "metadata": {},
     "output_type": "execute_result"
    }
   ],
   "source": [
    "data_train.head()"
   ]
  },
  {
   "cell_type": "code",
   "execution_count": 24,
   "metadata": {},
   "outputs": [],
   "source": [
    "type_features = make_binary_feature(data_train['type'], 'type')\n",
    "org_features = make_binary_feature(data_train['organization'], 'organization')"
   ]
  },
  {
   "cell_type": "code",
   "execution_count": 25,
   "metadata": {},
   "outputs": [
    {
     "data": {
      "text/plain": [
       "((55393, 24), (55393, 66))"
      ]
     },
     "execution_count": 25,
     "metadata": {},
     "output_type": "execute_result"
    }
   ],
   "source": [
    "type_features.shape, org_features.shape"
   ]
  },
  {
   "cell_type": "code",
   "execution_count": 27,
   "metadata": {},
   "outputs": [
    {
     "data": {
      "text/html": [
       "<div>\n",
       "<style scoped>\n",
       "    .dataframe tbody tr th:only-of-type {\n",
       "        vertical-align: middle;\n",
       "    }\n",
       "\n",
       "    .dataframe tbody tr th {\n",
       "        vertical-align: top;\n",
       "    }\n",
       "\n",
       "    .dataframe thead th {\n",
       "        text-align: right;\n",
       "    }\n",
       "</style>\n",
       "<table border=\"1\" class=\"dataframe\">\n",
       "  <thead>\n",
       "    <tr style=\"text-align: right;\">\n",
       "      <th></th>\n",
       "      <th>ถนน</th>\n",
       "      <th>ทางเท้า</th>\n",
       "      <th>แสงสว่าง</th>\n",
       "      <th>ความปลอดภัย</th>\n",
       "      <th>ความสะอาด</th>\n",
       "      <th>น้ำท่วม</th>\n",
       "      <th>กีดขวาง</th>\n",
       "      <th>ท่อระบายน้ำ</th>\n",
       "      <th>จราจร</th>\n",
       "      <th>สะพาน</th>\n",
       "      <th>สายไฟ</th>\n",
       "      <th>เสียงรบกวน</th>\n",
       "      <th>คลอง</th>\n",
       "      <th>ต้นไม้</th>\n",
       "      <th>ร้องเรียน</th>\n",
       "      <th>...</th>\n",
       "      <th>สำนักการระบายน้ำ กทม.</th>\n",
       "      <th>สำนักการวางผังและพัฒนาเมือง กทม.</th>\n",
       "      <th>สำนักการศึกษา กทม.</th>\n",
       "      <th>สำนักงบประมาณกรุงเทพมหานคร</th>\n",
       "      <th>สำนักงานคณะกรรมการข้าราชการกรุงเทพมหานคร</th>\n",
       "      <th>สำนักเทศกิจ กทม.</th>\n",
       "      <th>สำนักป้องกันและบรรเทาสาธารณภัย กทม.</th>\n",
       "      <th>สำนักพัฒนาสังคม กทม.</th>\n",
       "      <th>สำนักยุทธศาสตร์และประเมินผล กทม.</th>\n",
       "      <th>สำนักวัฒนธรรม กีฬาและการท่องเที่ยว กทม.</th>\n",
       "      <th>สำนักสิ่งแวดล้อม กทม.</th>\n",
       "      <th>สำนักอนามัย กทม.</th>\n",
       "      <th>comment</th>\n",
       "      <th>latitude</th>\n",
       "      <th>longitude</th>\n",
       "    </tr>\n",
       "  </thead>\n",
       "  <tbody>\n",
       "    <tr>\n",
       "      <th>55388</th>\n",
       "      <td>0.0</td>\n",
       "      <td>0.0</td>\n",
       "      <td>0.0</td>\n",
       "      <td>0.0</td>\n",
       "      <td>0.0</td>\n",
       "      <td>0.0</td>\n",
       "      <td>0.0</td>\n",
       "      <td>0.0</td>\n",
       "      <td>0.0</td>\n",
       "      <td>0.0</td>\n",
       "      <td>1.0</td>\n",
       "      <td>0.0</td>\n",
       "      <td>0.0</td>\n",
       "      <td>0.0</td>\n",
       "      <td>0.0</td>\n",
       "      <td>...</td>\n",
       "      <td>0.0</td>\n",
       "      <td>0.0</td>\n",
       "      <td>0.0</td>\n",
       "      <td>0.0</td>\n",
       "      <td>0.0</td>\n",
       "      <td>0.0</td>\n",
       "      <td>0.0</td>\n",
       "      <td>0.0</td>\n",
       "      <td>0.0</td>\n",
       "      <td>0.0</td>\n",
       "      <td>0.0</td>\n",
       "      <td>0.0</td>\n",
       "      <td>สายสื่อสารย้อยลงมาดูเหมือนจะล่นรบกวนประสานงานให้หน่อยครับ</td>\n",
       "      <td>13.72261</td>\n",
       "      <td>100.45563</td>\n",
       "    </tr>\n",
       "    <tr>\n",
       "      <th>55389</th>\n",
       "      <td>0.0</td>\n",
       "      <td>0.0</td>\n",
       "      <td>0.0</td>\n",
       "      <td>0.0</td>\n",
       "      <td>1.0</td>\n",
       "      <td>0.0</td>\n",
       "      <td>0.0</td>\n",
       "      <td>0.0</td>\n",
       "      <td>0.0</td>\n",
       "      <td>0.0</td>\n",
       "      <td>0.0</td>\n",
       "      <td>0.0</td>\n",
       "      <td>0.0</td>\n",
       "      <td>0.0</td>\n",
       "      <td>0.0</td>\n",
       "      <td>...</td>\n",
       "      <td>0.0</td>\n",
       "      <td>0.0</td>\n",
       "      <td>0.0</td>\n",
       "      <td>0.0</td>\n",
       "      <td>0.0</td>\n",
       "      <td>0.0</td>\n",
       "      <td>0.0</td>\n",
       "      <td>0.0</td>\n",
       "      <td>0.0</td>\n",
       "      <td>0.0</td>\n",
       "      <td>0.0</td>\n",
       "      <td>0.0</td>\n",
       "      <td>แจ้งติดป้าย  ผิด พ ร บ รักษาความสะอาด และความเป็นระเบียบเรียบร้อยของบ้านเมือง  นวมินทร์ 93  ขอขอบคุณ เจ้าหน้าที่ทุกท่าน ในการจัดการปัญหาดังกล่าว</td>\n",
       "      <td>13.79995</td>\n",
       "      <td>100.64970</td>\n",
       "    </tr>\n",
       "    <tr>\n",
       "      <th>55390</th>\n",
       "      <td>1.0</td>\n",
       "      <td>0.0</td>\n",
       "      <td>0.0</td>\n",
       "      <td>0.0</td>\n",
       "      <td>0.0</td>\n",
       "      <td>0.0</td>\n",
       "      <td>0.0</td>\n",
       "      <td>0.0</td>\n",
       "      <td>0.0</td>\n",
       "      <td>0.0</td>\n",
       "      <td>0.0</td>\n",
       "      <td>0.0</td>\n",
       "      <td>0.0</td>\n",
       "      <td>0.0</td>\n",
       "      <td>0.0</td>\n",
       "      <td>...</td>\n",
       "      <td>0.0</td>\n",
       "      <td>0.0</td>\n",
       "      <td>0.0</td>\n",
       "      <td>0.0</td>\n",
       "      <td>0.0</td>\n",
       "      <td>0.0</td>\n",
       "      <td>0.0</td>\n",
       "      <td>0.0</td>\n",
       "      <td>0.0</td>\n",
       "      <td>0.0</td>\n",
       "      <td>0.0</td>\n",
       "      <td>0.0</td>\n",
       "      <td>ถนนและทางเข้าซอยทรุดโทรม</td>\n",
       "      <td>13.70941</td>\n",
       "      <td>100.40009</td>\n",
       "    </tr>\n",
       "    <tr>\n",
       "      <th>55391</th>\n",
       "      <td>1.0</td>\n",
       "      <td>0.0</td>\n",
       "      <td>0.0</td>\n",
       "      <td>0.0</td>\n",
       "      <td>0.0</td>\n",
       "      <td>0.0</td>\n",
       "      <td>0.0</td>\n",
       "      <td>0.0</td>\n",
       "      <td>0.0</td>\n",
       "      <td>0.0</td>\n",
       "      <td>0.0</td>\n",
       "      <td>0.0</td>\n",
       "      <td>0.0</td>\n",
       "      <td>0.0</td>\n",
       "      <td>0.0</td>\n",
       "      <td>...</td>\n",
       "      <td>0.0</td>\n",
       "      <td>0.0</td>\n",
       "      <td>0.0</td>\n",
       "      <td>0.0</td>\n",
       "      <td>0.0</td>\n",
       "      <td>0.0</td>\n",
       "      <td>0.0</td>\n",
       "      <td>0.0</td>\n",
       "      <td>0.0</td>\n",
       "      <td>0.0</td>\n",
       "      <td>0.0</td>\n",
       "      <td>0.0</td>\n",
       "      <td>ถนนในซอยวิภาวดีซอย 3 ผิวถนนขรุขระ ครับ</td>\n",
       "      <td>13.79716</td>\n",
       "      <td>100.55843</td>\n",
       "    </tr>\n",
       "    <tr>\n",
       "      <th>55392</th>\n",
       "      <td>1.0</td>\n",
       "      <td>0.0</td>\n",
       "      <td>0.0</td>\n",
       "      <td>0.0</td>\n",
       "      <td>0.0</td>\n",
       "      <td>0.0</td>\n",
       "      <td>0.0</td>\n",
       "      <td>0.0</td>\n",
       "      <td>0.0</td>\n",
       "      <td>0.0</td>\n",
       "      <td>0.0</td>\n",
       "      <td>0.0</td>\n",
       "      <td>0.0</td>\n",
       "      <td>0.0</td>\n",
       "      <td>0.0</td>\n",
       "      <td>...</td>\n",
       "      <td>0.0</td>\n",
       "      <td>0.0</td>\n",
       "      <td>0.0</td>\n",
       "      <td>0.0</td>\n",
       "      <td>0.0</td>\n",
       "      <td>0.0</td>\n",
       "      <td>0.0</td>\n",
       "      <td>0.0</td>\n",
       "      <td>0.0</td>\n",
       "      <td>0.0</td>\n",
       "      <td>0.0</td>\n",
       "      <td>0.0</td>\n",
       "      <td>ถนน ดินลูกรัชฝุ่น มากมายครับ</td>\n",
       "      <td>13.72171</td>\n",
       "      <td>100.70437</td>\n",
       "    </tr>\n",
       "  </tbody>\n",
       "</table>\n",
       "<p>5 rows × 93 columns</p>\n",
       "</div>"
      ],
      "text/plain": [
       "       ถนน  ทางเท้า  แสงสว่าง  ความปลอดภัย  ความสะอาด  น้ำท่วม  กีดขวาง   \n",
       "55388  0.0      0.0       0.0          0.0        0.0      0.0      0.0  \\\n",
       "55389  0.0      0.0       0.0          0.0        1.0      0.0      0.0   \n",
       "55390  1.0      0.0       0.0          0.0        0.0      0.0      0.0   \n",
       "55391  1.0      0.0       0.0          0.0        0.0      0.0      0.0   \n",
       "55392  1.0      0.0       0.0          0.0        0.0      0.0      0.0   \n",
       "\n",
       "       ท่อระบายน้ำ  จราจร  สะพาน  สายไฟ  เสียงรบกวน  คลอง  ต้นไม้  ร้องเรียน   \n",
       "55388          0.0    0.0    0.0    1.0         0.0   0.0     0.0        0.0  \\\n",
       "55389          0.0    0.0    0.0    0.0         0.0   0.0     0.0        0.0   \n",
       "55390          0.0    0.0    0.0    0.0         0.0   0.0     0.0        0.0   \n",
       "55391          0.0    0.0    0.0    0.0         0.0   0.0     0.0        0.0   \n",
       "55392          0.0    0.0    0.0    0.0         0.0   0.0     0.0        0.0   \n",
       "\n",
       "       ...  สำนักการระบายน้ำ กทม.  สำนักการวางผังและพัฒนาเมือง กทม.   \n",
       "55388  ...                    0.0                               0.0  \\\n",
       "55389  ...                    0.0                               0.0   \n",
       "55390  ...                    0.0                               0.0   \n",
       "55391  ...                    0.0                               0.0   \n",
       "55392  ...                    0.0                               0.0   \n",
       "\n",
       "       สำนักการศึกษา กทม.  สำนักงบประมาณกรุงเทพมหานคร   \n",
       "55388                 0.0                         0.0  \\\n",
       "55389                 0.0                         0.0   \n",
       "55390                 0.0                         0.0   \n",
       "55391                 0.0                         0.0   \n",
       "55392                 0.0                         0.0   \n",
       "\n",
       "       สำนักงานคณะกรรมการข้าราชการกรุงเทพมหานคร  สำนักเทศกิจ กทม.   \n",
       "55388                                       0.0               0.0  \\\n",
       "55389                                       0.0               0.0   \n",
       "55390                                       0.0               0.0   \n",
       "55391                                       0.0               0.0   \n",
       "55392                                       0.0               0.0   \n",
       "\n",
       "       สำนักป้องกันและบรรเทาสาธารณภัย กทม.  สำนักพัฒนาสังคม กทม.   \n",
       "55388                                  0.0                   0.0  \\\n",
       "55389                                  0.0                   0.0   \n",
       "55390                                  0.0                   0.0   \n",
       "55391                                  0.0                   0.0   \n",
       "55392                                  0.0                   0.0   \n",
       "\n",
       "       สำนักยุทธศาสตร์และประเมินผล กทม.   \n",
       "55388                               0.0  \\\n",
       "55389                               0.0   \n",
       "55390                               0.0   \n",
       "55391                               0.0   \n",
       "55392                               0.0   \n",
       "\n",
       "       สำนักวัฒนธรรม กีฬาและการท่องเที่ยว กทม.  สำนักสิ่งแวดล้อม กทม.   \n",
       "55388                                      0.0                    0.0  \\\n",
       "55389                                      0.0                    0.0   \n",
       "55390                                      0.0                    0.0   \n",
       "55391                                      0.0                    0.0   \n",
       "55392                                      0.0                    0.0   \n",
       "\n",
       "       สำนักอนามัย กทม.   \n",
       "55388               0.0  \\\n",
       "55389               0.0   \n",
       "55390               0.0   \n",
       "55391               0.0   \n",
       "55392               0.0   \n",
       "\n",
       "                                                                                                                                                comment   \n",
       "55388                                                                                         สายสื่อสารย้อยลงมาดูเหมือนจะล่นรบกวนประสานงานให้หน่อยครับ  \\\n",
       "55389  แจ้งติดป้าย  ผิด พ ร บ รักษาความสะอาด และความเป็นระเบียบเรียบร้อยของบ้านเมือง  นวมินทร์ 93  ขอขอบคุณ เจ้าหน้าที่ทุกท่าน ในการจัดการปัญหาดังกล่าว   \n",
       "55390                                                                                                                          ถนนและทางเข้าซอยทรุดโทรม   \n",
       "55391                                                                                                            ถนนในซอยวิภาวดีซอย 3 ผิวถนนขรุขระ ครับ   \n",
       "55392                                                                                                                      ถนน ดินลูกรัชฝุ่น มากมายครับ   \n",
       "\n",
       "       latitude  longitude  \n",
       "55388  13.72261  100.45563  \n",
       "55389  13.79995  100.64970  \n",
       "55390  13.70941  100.40009  \n",
       "55391  13.79716  100.55843  \n",
       "55392  13.72171  100.70437  \n",
       "\n",
       "[5 rows x 93 columns]"
      ]
     },
     "execution_count": 27,
     "metadata": {},
     "output_type": "execute_result"
    }
   ],
   "source": [
    "pd.concat((type_features, org_features, data_train[['comment', 'latitude', 'longitude']]), axis=1).tail()"
   ]
  },
  {
   "attachments": {},
   "cell_type": "markdown",
   "metadata": {},
   "source": [
    "### tranform text"
   ]
  },
  {
   "cell_type": "code",
   "execution_count": 30,
   "metadata": {},
   "outputs": [],
   "source": [
    "# text processing\n",
    "from sklearn.feature_extraction.text import CountVectorizer\n",
    "from pythainlp import word_tokenize"
   ]
  },
  {
   "cell_type": "code",
   "execution_count": 31,
   "metadata": {},
   "outputs": [
    {
     "name": "stderr",
     "output_type": "stream",
     "text": [
      "d:\\Projects\\DS2022-2_TraffyFondue_Project_ML\\env\\lib\\site-packages\\sklearn\\feature_extraction\\text.py:528: UserWarning: The parameter 'token_pattern' will not be used since 'tokenizer' is not None'\n",
      "  warnings.warn(\n"
     ]
    },
    {
     "name": "stdout",
     "output_type": "stream",
     "text": [
      "Number of distinct words to be used as features: 8243\n"
     ]
    }
   ],
   "source": [
    "# Same train-test split as before (same random seed)\n",
    "text_train, text_test = train_test_split(cleaned_df['comment'], test_size=0.2, random_state=rand_seed)\n",
    "\n",
    "training_corpus = text_train.values.astype('U')\n",
    "vectorizer = CountVectorizer(min_df=5, tokenizer=word_tokenize, analyzer='word') \n",
    "# min_df is the minimum number of times a word needs to appear in the corpus in order to be assigned a vector\n",
    "vectorizer.fit(training_corpus)\n",
    "num_words = len(vectorizer.vocabulary_) # Total number of words \n",
    "print(\"Number of distinct words to be used as features:\", num_words)"
   ]
  },
  {
   "cell_type": "code",
   "execution_count": 32,
   "metadata": {},
   "outputs": [
    {
     "name": "stdout",
     "output_type": "stream",
     "text": [
      "Shape of word-occurrence feature matrix: (70838, 8243)\n"
     ]
    }
   ],
   "source": [
    "full_corpus = cleaned_df['comment'].values.astype('U')\n",
    "word_features = vectorizer.transform(full_corpus) # This is a sparse matrix of our word-occurrence features \n",
    "words = vectorizer.get_feature_names_out() # The actual words corresponding to the columns of the above feature matrix\n",
    "word_frequencies = np.array(word_features.sum(axis=0))[0] # The term frequency of each word in the dataset\n",
    "print(\"Shape of word-occurrence feature matrix:\",word_features.shape)"
   ]
  }
 ],
 "metadata": {
  "kernelspec": {
   "display_name": "Python 3",
   "language": "python",
   "name": "python3"
  },
  "language_info": {
   "codemirror_mode": {
    "name": "ipython",
    "version": 3
   },
   "file_extension": ".py",
   "mimetype": "text/x-python",
   "name": "python",
   "nbconvert_exporter": "python",
   "pygments_lexer": "ipython3",
   "version": "3.10.11"
  },
  "orig_nbformat": 4
 },
 "nbformat": 4,
 "nbformat_minor": 2
}
